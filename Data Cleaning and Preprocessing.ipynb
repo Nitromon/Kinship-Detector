{
 "cells": [
  {
   "cell_type": "markdown",
   "metadata": {},
   "source": [
    "---\n",
    "# AIET Capstone Project: Group 2\n",
    "\n",
    "## Northeastern SMILE Lab - Recognizing Faces in the Wild\n",
    "\n",
    "https://www.kaggle.com/c/recognizing-faces-in-the-wild/kernels\n",
    "\n",
    "---"
   ]
  },
  {
   "cell_type": "markdown",
   "metadata": {},
   "source": [
    "### Data Cleaning and Preprocessing:\n",
    "\n",
    "---"
   ]
  },
  {
   "cell_type": "code",
   "execution_count": 668,
   "metadata": {},
   "outputs": [],
   "source": [
    "# dependencies\n",
    "import os\n",
    "import numpy as np\n",
    "import pandas as pd\n",
    "import glob\n",
    "import random\n",
    "import base64\n",
    "\n",
    "from PIL import Image\n",
    "from io import BytesIO\n",
    "from IPython.display import HTML"
   ]
  },
  {
   "cell_type": "code",
   "execution_count": 669,
   "metadata": {},
   "outputs": [
    {
     "data": {
      "text/plain": [
       "'/Users/harish3110/Desktop/capstone_project'"
      ]
     },
     "execution_count": 669,
     "metadata": {},
     "output_type": "execute_result"
    }
   ],
   "source": [
    "root_path = os.getcwd()\n",
    "root_path"
   ]
  },
  {
   "cell_type": "markdown",
   "metadata": {},
   "source": [
    "#### Dataset Summary:"
   ]
  },
  {
   "cell_type": "code",
   "execution_count": 670,
   "metadata": {},
   "outputs": [
    {
     "name": "stdout",
     "output_type": "stream",
     "text": [
      "We have 471 families, with 2320 distinct people having a total of 12348 pictures.\n"
     ]
    }
   ],
   "source": [
    "fam = os.listdir(root_path + \"/train\")\n",
    "ind = []\n",
    "num = []\n",
    "pic = []\n",
    "tot = 0\n",
    "totpic = 0\n",
    "for i in fam:\n",
    "    try:\n",
    "        path = root_path + \"/train/\"+ str(i)\n",
    "        temp = os.listdir(path)\n",
    "        ind.append(temp)\n",
    "        num.append(len(temp))\n",
    "        tot+=len(temp)\n",
    "        for j in temp:\n",
    "            newpath = path+\"/\"+str(j)\n",
    "            temp = os.listdir(newpath)\n",
    "            pic.append(temp)\n",
    "            totpic+=len(temp)\n",
    "    except:\n",
    "        if str(i) == \".DS_Store\":\n",
    "            continue\n",
    "print(f'We have {len(fam)} families, with {tot} distinct people having a total of {totpic} pictures.') "
   ]
  },
  {
   "cell_type": "markdown",
   "metadata": {},
   "source": [
    "---"
   ]
  },
  {
   "cell_type": "code",
   "execution_count": 671,
   "metadata": {},
   "outputs": [
    {
     "data": {
      "text/plain": [
       "2316"
      ]
     },
     "execution_count": 671,
     "metadata": {},
     "output_type": "execute_result"
    }
   ],
   "source": [
    "from collections import defaultdict\n",
    "#keeps all photos path in a dictionary\n",
    "\n",
    "allPhotos = defaultdict(list)\n",
    "for family in glob.glob(root_path + \"/train/*\"):\n",
    "    for mem in glob.glob(family+'/*'):\n",
    "        for photo in glob.glob(mem+'/*'):\n",
    "            allPhotos[mem].append(photo)\n",
    "\n",
    "#list of all members with valid photo\n",
    "ppl = list(allPhotos.keys())\n",
    "len(ppl)"
   ]
  },
  {
   "cell_type": "code",
   "execution_count": 672,
   "metadata": {},
   "outputs": [
    {
     "name": "stdout",
     "output_type": "stream",
     "text": [
      "(3598, 2)\n"
     ]
    },
    {
     "data": {
      "text/html": [
       "<div>\n",
       "<style scoped>\n",
       "    .dataframe tbody tr th:only-of-type {\n",
       "        vertical-align: middle;\n",
       "    }\n",
       "\n",
       "    .dataframe tbody tr th {\n",
       "        vertical-align: top;\n",
       "    }\n",
       "\n",
       "    .dataframe thead th {\n",
       "        text-align: right;\n",
       "    }\n",
       "</style>\n",
       "<table border=\"1\" class=\"dataframe\">\n",
       "  <thead>\n",
       "    <tr style=\"text-align: right;\">\n",
       "      <th></th>\n",
       "      <th>p1</th>\n",
       "      <th>p2</th>\n",
       "    </tr>\n",
       "  </thead>\n",
       "  <tbody>\n",
       "    <tr>\n",
       "      <th>0</th>\n",
       "      <td>/Users/harish3110/Desktop/capstone_project/tra...</td>\n",
       "      <td>/Users/harish3110/Desktop/capstone_project/tra...</td>\n",
       "    </tr>\n",
       "    <tr>\n",
       "      <th>1</th>\n",
       "      <td>/Users/harish3110/Desktop/capstone_project/tra...</td>\n",
       "      <td>/Users/harish3110/Desktop/capstone_project/tra...</td>\n",
       "    </tr>\n",
       "    <tr>\n",
       "      <th>2</th>\n",
       "      <td>/Users/harish3110/Desktop/capstone_project/tra...</td>\n",
       "      <td>/Users/harish3110/Desktop/capstone_project/tra...</td>\n",
       "    </tr>\n",
       "    <tr>\n",
       "      <th>3</th>\n",
       "      <td>/Users/harish3110/Desktop/capstone_project/tra...</td>\n",
       "      <td>/Users/harish3110/Desktop/capstone_project/tra...</td>\n",
       "    </tr>\n",
       "    <tr>\n",
       "      <th>4</th>\n",
       "      <td>/Users/harish3110/Desktop/capstone_project/tra...</td>\n",
       "      <td>/Users/harish3110/Desktop/capstone_project/tra...</td>\n",
       "    </tr>\n",
       "  </tbody>\n",
       "</table>\n",
       "</div>"
      ],
      "text/plain": [
       "                                                  p1  \\\n",
       "0  /Users/harish3110/Desktop/capstone_project/tra...   \n",
       "1  /Users/harish3110/Desktop/capstone_project/tra...   \n",
       "2  /Users/harish3110/Desktop/capstone_project/tra...   \n",
       "3  /Users/harish3110/Desktop/capstone_project/tra...   \n",
       "4  /Users/harish3110/Desktop/capstone_project/tra...   \n",
       "\n",
       "                                                  p2  \n",
       "0  /Users/harish3110/Desktop/capstone_project/tra...  \n",
       "1  /Users/harish3110/Desktop/capstone_project/tra...  \n",
       "2  /Users/harish3110/Desktop/capstone_project/tra...  \n",
       "3  /Users/harish3110/Desktop/capstone_project/tra...  \n",
       "4  /Users/harish3110/Desktop/capstone_project/tra...  "
      ]
     },
     "execution_count": 672,
     "metadata": {},
     "output_type": "execute_result"
    }
   ],
   "source": [
    "data = pd.read_csv(root_path + '/train_relationships.csv')\n",
    "data.p1 = data.p1.apply( lambda x: root_path + '/train/'+x )\n",
    "data.p2 = data.p2.apply( lambda x: root_path + '/train/'+x )\n",
    "print(data.shape)\n",
    "data.head()"
   ]
  },
  {
   "cell_type": "markdown",
   "metadata": {},
   "source": [
    "---\n",
    "#### Dropping duplicates between data and combinations(i.e all possible combinations between all memebers in a particular family):\n",
    "##### Didn't work as expected!"
   ]
  },
  {
   "cell_type": "code",
   "execution_count": 673,
   "metadata": {},
   "outputs": [
    {
     "data": {
      "text/plain": [
       "[('/Users/harish3110/Desktop/capstone_project/train/F0658/MID6',\n",
       "  '/Users/harish3110/Desktop/capstone_project/train/F0658/MID1'),\n",
       " ('/Users/harish3110/Desktop/capstone_project/train/F0658/MID6',\n",
       "  '/Users/harish3110/Desktop/capstone_project/train/F0658/MID7'),\n",
       " ('/Users/harish3110/Desktop/capstone_project/train/F0658/MID6',\n",
       "  '/Users/harish3110/Desktop/capstone_project/train/F0658/MID2'),\n",
       " ('/Users/harish3110/Desktop/capstone_project/train/F0658/MID6',\n",
       "  '/Users/harish3110/Desktop/capstone_project/train/F0658/MID5'),\n",
       " ('/Users/harish3110/Desktop/capstone_project/train/F0658/MID6',\n",
       "  '/Users/harish3110/Desktop/capstone_project/train/F0658/MID3'),\n",
       " ('/Users/harish3110/Desktop/capstone_project/train/F0658/MID1',\n",
       "  '/Users/harish3110/Desktop/capstone_project/train/F0658/MID7'),\n",
       " ('/Users/harish3110/Desktop/capstone_project/train/F0658/MID1',\n",
       "  '/Users/harish3110/Desktop/capstone_project/train/F0658/MID2'),\n",
       " ('/Users/harish3110/Desktop/capstone_project/train/F0658/MID1',\n",
       "  '/Users/harish3110/Desktop/capstone_project/train/F0658/MID5'),\n",
       " ('/Users/harish3110/Desktop/capstone_project/train/F0658/MID1',\n",
       "  '/Users/harish3110/Desktop/capstone_project/train/F0658/MID3'),\n",
       " ('/Users/harish3110/Desktop/capstone_project/train/F0658/MID7',\n",
       "  '/Users/harish3110/Desktop/capstone_project/train/F0658/MID2'),\n",
       " ('/Users/harish3110/Desktop/capstone_project/train/F0658/MID7',\n",
       "  '/Users/harish3110/Desktop/capstone_project/train/F0658/MID5'),\n",
       " ('/Users/harish3110/Desktop/capstone_project/train/F0658/MID7',\n",
       "  '/Users/harish3110/Desktop/capstone_project/train/F0658/MID3'),\n",
       " ('/Users/harish3110/Desktop/capstone_project/train/F0658/MID2',\n",
       "  '/Users/harish3110/Desktop/capstone_project/train/F0658/MID5'),\n",
       " ('/Users/harish3110/Desktop/capstone_project/train/F0658/MID2',\n",
       "  '/Users/harish3110/Desktop/capstone_project/train/F0658/MID3'),\n",
       " ('/Users/harish3110/Desktop/capstone_project/train/F0658/MID5',\n",
       "  '/Users/harish3110/Desktop/capstone_project/train/F0658/MID3')]"
      ]
     },
     "execution_count": 673,
     "metadata": {},
     "output_type": "execute_result"
    }
   ],
   "source": [
    "from itertools import combinations\n",
    "l2 = []\n",
    "for family in glob.glob(root_path + \"/train/*\"):\n",
    "    l = []\n",
    "    for mem in glob.glob(family+'/*'):\n",
    "        l.append(mem)\n",
    "    l2.append(list(combinations(l, 2)))\n",
    "        \n",
    "l2[1]"
   ]
  },
  {
   "cell_type": "code",
   "execution_count": 674,
   "metadata": {},
   "outputs": [
    {
     "data": {
      "text/plain": [
       "'/Users/harish3110/Desktop/capstone_project/train/F0832/MID1'"
      ]
     },
     "execution_count": 674,
     "metadata": {},
     "output_type": "execute_result"
    }
   ],
   "source": [
    "combinations = [l2[i][j] for i in range(len(l2)) for j in range(len(l2[i]))]\n",
    "combinations[0][0]"
   ]
  },
  {
   "cell_type": "code",
   "execution_count": 675,
   "metadata": {},
   "outputs": [
    {
     "data": {
      "text/plain": [
       "6260"
      ]
     },
     "execution_count": 675,
     "metadata": {},
     "output_type": "execute_result"
    }
   ],
   "source": [
    "combinations = pd.DataFrame(combinations, columns=['p1', 'p2'])\n",
    "len(combinations)"
   ]
  },
  {
   "cell_type": "code",
   "execution_count": 676,
   "metadata": {},
   "outputs": [
    {
     "data": {
      "text/plain": [
       "3598"
      ]
     },
     "execution_count": 676,
     "metadata": {},
     "output_type": "execute_result"
    }
   ],
   "source": [
    "len(data)"
   ]
  },
  {
   "cell_type": "code",
   "execution_count": 677,
   "metadata": {},
   "outputs": [],
   "source": [
    "df1 = combinations\n",
    "df2 = data"
   ]
  },
  {
   "cell_type": "code",
   "execution_count": 678,
   "metadata": {},
   "outputs": [
    {
     "data": {
      "text/html": [
       "<div>\n",
       "<style scoped>\n",
       "    .dataframe tbody tr th:only-of-type {\n",
       "        vertical-align: middle;\n",
       "    }\n",
       "\n",
       "    .dataframe tbody tr th {\n",
       "        vertical-align: top;\n",
       "    }\n",
       "\n",
       "    .dataframe thead th {\n",
       "        text-align: right;\n",
       "    }\n",
       "</style>\n",
       "<table border=\"1\" class=\"dataframe\">\n",
       "  <thead>\n",
       "    <tr style=\"text-align: right;\">\n",
       "      <th></th>\n",
       "      <th>p1</th>\n",
       "      <th>p2</th>\n",
       "    </tr>\n",
       "  </thead>\n",
       "  <tbody>\n",
       "    <tr>\n",
       "      <th>0</th>\n",
       "      <td>/Users/harish3110/Desktop/capstone_project/tra...</td>\n",
       "      <td>/Users/harish3110/Desktop/capstone_project/tra...</td>\n",
       "    </tr>\n",
       "    <tr>\n",
       "      <th>5</th>\n",
       "      <td>/Users/harish3110/Desktop/capstone_project/tra...</td>\n",
       "      <td>/Users/harish3110/Desktop/capstone_project/tra...</td>\n",
       "    </tr>\n",
       "    <tr>\n",
       "      <th>7</th>\n",
       "      <td>/Users/harish3110/Desktop/capstone_project/tra...</td>\n",
       "      <td>/Users/harish3110/Desktop/capstone_project/tra...</td>\n",
       "    </tr>\n",
       "    <tr>\n",
       "      <th>8</th>\n",
       "      <td>/Users/harish3110/Desktop/capstone_project/tra...</td>\n",
       "      <td>/Users/harish3110/Desktop/capstone_project/tra...</td>\n",
       "    </tr>\n",
       "    <tr>\n",
       "      <th>9</th>\n",
       "      <td>/Users/harish3110/Desktop/capstone_project/tra...</td>\n",
       "      <td>/Users/harish3110/Desktop/capstone_project/tra...</td>\n",
       "    </tr>\n",
       "  </tbody>\n",
       "</table>\n",
       "</div>"
      ],
      "text/plain": [
       "                                                  p1  \\\n",
       "0  /Users/harish3110/Desktop/capstone_project/tra...   \n",
       "5  /Users/harish3110/Desktop/capstone_project/tra...   \n",
       "7  /Users/harish3110/Desktop/capstone_project/tra...   \n",
       "8  /Users/harish3110/Desktop/capstone_project/tra...   \n",
       "9  /Users/harish3110/Desktop/capstone_project/tra...   \n",
       "\n",
       "                                                  p2  \n",
       "0  /Users/harish3110/Desktop/capstone_project/tra...  \n",
       "5  /Users/harish3110/Desktop/capstone_project/tra...  \n",
       "7  /Users/harish3110/Desktop/capstone_project/tra...  \n",
       "8  /Users/harish3110/Desktop/capstone_project/tra...  \n",
       "9  /Users/harish3110/Desktop/capstone_project/tra...  "
      ]
     },
     "execution_count": 678,
     "metadata": {},
     "output_type": "execute_result"
    }
   ],
   "source": [
    "# Dropping duplicates between data and combinations. Didn't work as expected!\n",
    "pd.concat([df1, df2]).drop_duplicates(keep=False).head()"
   ]
  },
  {
   "cell_type": "code",
   "execution_count": 679,
   "metadata": {},
   "outputs": [],
   "source": [
    "nr1=pd.concat([df2, df1, df1]).drop_duplicates(keep=False)\n",
    "nr2=pd.concat([df1, df2, df2]).drop_duplicates(keep=False)"
   ]
  },
  {
   "cell_type": "code",
   "execution_count": 680,
   "metadata": {},
   "outputs": [
    {
     "data": {
      "text/plain": [
       "1664"
      ]
     },
     "execution_count": 680,
     "metadata": {},
     "output_type": "execute_result"
    }
   ],
   "source": [
    "len(nr1)"
   ]
  },
  {
   "cell_type": "code",
   "execution_count": 681,
   "metadata": {},
   "outputs": [
    {
     "name": "stdout",
     "output_type": "stream",
     "text": [
      "/Users/harish3110/Desktop/capstone_project/train/F0005/MID3\n",
      "/Users/harish3110/Desktop/capstone_project/train/F0005/MID2\n"
     ]
    }
   ],
   "source": [
    "print(nr1.iloc[0][0])\n",
    "print(nr1.iloc[0][1])"
   ]
  },
  {
   "cell_type": "code",
   "execution_count": 682,
   "metadata": {},
   "outputs": [
    {
     "data": {
      "text/html": [
       "<div>\n",
       "<style scoped>\n",
       "    .dataframe tbody tr th:only-of-type {\n",
       "        vertical-align: middle;\n",
       "    }\n",
       "\n",
       "    .dataframe tbody tr th {\n",
       "        vertical-align: top;\n",
       "    }\n",
       "\n",
       "    .dataframe thead th {\n",
       "        text-align: right;\n",
       "    }\n",
       "</style>\n",
       "<table border=\"1\" class=\"dataframe\">\n",
       "  <thead>\n",
       "    <tr style=\"text-align: right;\">\n",
       "      <th></th>\n",
       "      <th>p1</th>\n",
       "      <th>p2</th>\n",
       "      <th>p1t</th>\n",
       "    </tr>\n",
       "  </thead>\n",
       "  <tbody>\n",
       "    <tr>\n",
       "      <th>3</th>\n",
       "      <td>/Users/harish3110/Desktop/capstone_project/tra...</td>\n",
       "      <td>/Users/harish3110/Desktop/capstone_project/tra...</td>\n",
       "      <td>/Users/harish3110/Desktop/capstone_project/tra...</td>\n",
       "    </tr>\n",
       "    <tr>\n",
       "      <th>7</th>\n",
       "      <td>/Users/harish3110/Desktop/capstone_project/tra...</td>\n",
       "      <td>/Users/harish3110/Desktop/capstone_project/tra...</td>\n",
       "      <td>/Users/harish3110/Desktop/capstone_project/tra...</td>\n",
       "    </tr>\n",
       "    <tr>\n",
       "      <th>9</th>\n",
       "      <td>/Users/harish3110/Desktop/capstone_project/tra...</td>\n",
       "      <td>/Users/harish3110/Desktop/capstone_project/tra...</td>\n",
       "      <td>/Users/harish3110/Desktop/capstone_project/tra...</td>\n",
       "    </tr>\n",
       "    <tr>\n",
       "      <th>11</th>\n",
       "      <td>/Users/harish3110/Desktop/capstone_project/tra...</td>\n",
       "      <td>/Users/harish3110/Desktop/capstone_project/tra...</td>\n",
       "      <td>/Users/harish3110/Desktop/capstone_project/tra...</td>\n",
       "    </tr>\n",
       "    <tr>\n",
       "      <th>12</th>\n",
       "      <td>/Users/harish3110/Desktop/capstone_project/tra...</td>\n",
       "      <td>/Users/harish3110/Desktop/capstone_project/tra...</td>\n",
       "      <td>/Users/harish3110/Desktop/capstone_project/tra...</td>\n",
       "    </tr>\n",
       "  </tbody>\n",
       "</table>\n",
       "</div>"
      ],
      "text/plain": [
       "                                                   p1  \\\n",
       "3   /Users/harish3110/Desktop/capstone_project/tra...   \n",
       "7   /Users/harish3110/Desktop/capstone_project/tra...   \n",
       "9   /Users/harish3110/Desktop/capstone_project/tra...   \n",
       "11  /Users/harish3110/Desktop/capstone_project/tra...   \n",
       "12  /Users/harish3110/Desktop/capstone_project/tra...   \n",
       "\n",
       "                                                   p2  \\\n",
       "3   /Users/harish3110/Desktop/capstone_project/tra...   \n",
       "7   /Users/harish3110/Desktop/capstone_project/tra...   \n",
       "9   /Users/harish3110/Desktop/capstone_project/tra...   \n",
       "11  /Users/harish3110/Desktop/capstone_project/tra...   \n",
       "12  /Users/harish3110/Desktop/capstone_project/tra...   \n",
       "\n",
       "                                                  p1t  \n",
       "3   /Users/harish3110/Desktop/capstone_project/tra...  \n",
       "7   /Users/harish3110/Desktop/capstone_project/tra...  \n",
       "9   /Users/harish3110/Desktop/capstone_project/tra...  \n",
       "11  /Users/harish3110/Desktop/capstone_project/tra...  \n",
       "12  /Users/harish3110/Desktop/capstone_project/tra...  "
      ]
     },
     "execution_count": 682,
     "metadata": {},
     "output_type": "execute_result"
    }
   ],
   "source": [
    "nr1['p1t'] = nr1.p1\n",
    "nr1.head()"
   ]
  },
  {
   "cell_type": "code",
   "execution_count": 683,
   "metadata": {},
   "outputs": [
    {
     "data": {
      "text/html": [
       "<div>\n",
       "<style scoped>\n",
       "    .dataframe tbody tr th:only-of-type {\n",
       "        vertical-align: middle;\n",
       "    }\n",
       "\n",
       "    .dataframe tbody tr th {\n",
       "        vertical-align: top;\n",
       "    }\n",
       "\n",
       "    .dataframe thead th {\n",
       "        text-align: right;\n",
       "    }\n",
       "</style>\n",
       "<table border=\"1\" class=\"dataframe\">\n",
       "  <thead>\n",
       "    <tr style=\"text-align: right;\">\n",
       "      <th></th>\n",
       "      <th>p1</th>\n",
       "      <th>p2</th>\n",
       "    </tr>\n",
       "  </thead>\n",
       "  <tbody>\n",
       "    <tr>\n",
       "      <th>3</th>\n",
       "      <td>/Users/harish3110/Desktop/capstone_project/tra...</td>\n",
       "      <td>/Users/harish3110/Desktop/capstone_project/tra...</td>\n",
       "    </tr>\n",
       "    <tr>\n",
       "      <th>7</th>\n",
       "      <td>/Users/harish3110/Desktop/capstone_project/tra...</td>\n",
       "      <td>/Users/harish3110/Desktop/capstone_project/tra...</td>\n",
       "    </tr>\n",
       "    <tr>\n",
       "      <th>9</th>\n",
       "      <td>/Users/harish3110/Desktop/capstone_project/tra...</td>\n",
       "      <td>/Users/harish3110/Desktop/capstone_project/tra...</td>\n",
       "    </tr>\n",
       "    <tr>\n",
       "      <th>11</th>\n",
       "      <td>/Users/harish3110/Desktop/capstone_project/tra...</td>\n",
       "      <td>/Users/harish3110/Desktop/capstone_project/tra...</td>\n",
       "    </tr>\n",
       "    <tr>\n",
       "      <th>12</th>\n",
       "      <td>/Users/harish3110/Desktop/capstone_project/tra...</td>\n",
       "      <td>/Users/harish3110/Desktop/capstone_project/tra...</td>\n",
       "    </tr>\n",
       "  </tbody>\n",
       "</table>\n",
       "</div>"
      ],
      "text/plain": [
       "                                                   p1  \\\n",
       "3   /Users/harish3110/Desktop/capstone_project/tra...   \n",
       "7   /Users/harish3110/Desktop/capstone_project/tra...   \n",
       "9   /Users/harish3110/Desktop/capstone_project/tra...   \n",
       "11  /Users/harish3110/Desktop/capstone_project/tra...   \n",
       "12  /Users/harish3110/Desktop/capstone_project/tra...   \n",
       "\n",
       "                                                   p2  \n",
       "3   /Users/harish3110/Desktop/capstone_project/tra...  \n",
       "7   /Users/harish3110/Desktop/capstone_project/tra...  \n",
       "9   /Users/harish3110/Desktop/capstone_project/tra...  \n",
       "11  /Users/harish3110/Desktop/capstone_project/tra...  \n",
       "12  /Users/harish3110/Desktop/capstone_project/tra...  "
      ]
     },
     "execution_count": 683,
     "metadata": {},
     "output_type": "execute_result"
    }
   ],
   "source": [
    "nr1.p1 = nr1.p2\n",
    "nr1.p2 = nr1.p1t\n",
    "\n",
    "nr1.drop(['p1t'], axis=1, inplace=True)\n",
    "nr1.head()"
   ]
  },
  {
   "cell_type": "code",
   "execution_count": 684,
   "metadata": {},
   "outputs": [
    {
     "name": "stdout",
     "output_type": "stream",
     "text": [
      "/Users/harish3110/Desktop/capstone_project/train/F0005/MID2\n",
      "/Users/harish3110/Desktop/capstone_project/train/F0005/MID3\n"
     ]
    }
   ],
   "source": [
    "print(nr1.iloc[0][0])\n",
    "print(nr1.iloc[0][1])"
   ]
  },
  {
   "cell_type": "code",
   "execution_count": 685,
   "metadata": {},
   "outputs": [
    {
     "data": {
      "text/plain": [
       "4326"
      ]
     },
     "execution_count": 685,
     "metadata": {},
     "output_type": "execute_result"
    }
   ],
   "source": [
    "len(nr2)"
   ]
  },
  {
   "cell_type": "code",
   "execution_count": 686,
   "metadata": {},
   "outputs": [
    {
     "data": {
      "text/plain": [
       "2893"
      ]
     },
     "execution_count": 686,
     "metadata": {},
     "output_type": "execute_result"
    }
   ],
   "source": [
    "len(pd.concat([nr2, nr1, nr1]).drop_duplicates(keep=False))"
   ]
  },
  {
   "cell_type": "markdown",
   "metadata": {},
   "source": [
    "---"
   ]
  },
  {
   "cell_type": "code",
   "execution_count": 687,
   "metadata": {},
   "outputs": [],
   "source": [
    "import matplotlib.image as mpimg"
   ]
  },
  {
   "cell_type": "code",
   "execution_count": 688,
   "metadata": {},
   "outputs": [],
   "source": [
    "# TEST & TRAIN FILES\n",
    "train_df = pd.read_csv(root_path + '/train_relationships.csv')\n",
    "test_df = pd.read_csv(root_path + '/sample_submission.csv')\n",
    "\n",
    "# BASE PATHS FOR IMAGES\n",
    "train_img_path = root_path + '/train/'\n",
    "test_img_path = root_path + '/test/'"
   ]
  },
  {
   "cell_type": "code",
   "execution_count": 689,
   "metadata": {},
   "outputs": [],
   "source": [
    "train_df = data"
   ]
  },
  {
   "cell_type": "code",
   "execution_count": 690,
   "metadata": {},
   "outputs": [
    {
     "name": "stdout",
     "output_type": "stream",
     "text": [
      "3598  rows of confirmed kinship for model training\n"
     ]
    }
   ],
   "source": [
    "# SETUP SOME COLUMNS TO USE LATER\n",
    "train_df['is_related'] = 1\n",
    "train_df['p1_photo_count'] = 0\n",
    "train_df['p2_photo_count'] = 0\n",
    "train_df['p1_photo_list'] = ''\n",
    "train_df['p2_photo_list'] = ''\n",
    "train_df['combo'] = ''\n",
    "\n",
    "print(train_df.shape[0], ' rows of confirmed kinship for model training')\n",
    "\n",
    "# LOOP THROUGH EACH KNOWN KINSHIP\n",
    "for i in range(0, train_df.shape[0]) :\n",
    "    p1_path = root_path + '/train/' + train_df.loc[i, 'p1'] + \"/\"\n",
    "    p2_path = root_path + '/train/' + train_df.loc[i, 'p2'] + \"/\"\n",
    "\n",
    "    # CHECK IF DIRECTORY EXISTS (sometimes it's not present, unless I've done something wrong)\n",
    "    if os.path.isdir(p1_path) & os.path.isdir(p2_path):\n",
    "        train_df.loc[i, 'p1_photo_count'] = len(os.listdir(train_img_path / train_df.loc[i, 'p1'] ))\n",
    "        train_df.loc[i, 'p2_photo_count'] = len(os.listdir(train_img_path / train_df.loc[i, 'p2'] ))\n",
    "        train_df.at[i, 'p1_photo_list'] = os.listdir(train_img_path / train_df.loc[i, 'p1'] )\n",
    "        train_df.at[i, 'p2_photo_list'] = os.listdir(train_img_path / train_df.loc[i, 'p2'] )\n",
    "        train_df.loc[i, 'combo'] = train_df.loc[i, 'p1'] + '-' + train_df.loc[i, 'p2']\n",
    "\n",
    "train_columns = list(train_df.columns.values)"
   ]
  },
  {
   "cell_type": "code",
   "execution_count": 691,
   "metadata": {},
   "outputs": [
    {
     "data": {
      "text/html": [
       "<div>\n",
       "<style scoped>\n",
       "    .dataframe tbody tr th:only-of-type {\n",
       "        vertical-align: middle;\n",
       "    }\n",
       "\n",
       "    .dataframe tbody tr th {\n",
       "        vertical-align: top;\n",
       "    }\n",
       "\n",
       "    .dataframe thead th {\n",
       "        text-align: right;\n",
       "    }\n",
       "</style>\n",
       "<table border=\"1\" class=\"dataframe\">\n",
       "  <thead>\n",
       "    <tr style=\"text-align: right;\">\n",
       "      <th></th>\n",
       "      <th>p1</th>\n",
       "      <th>p2</th>\n",
       "      <th>is_related</th>\n",
       "      <th>p1_photo_count</th>\n",
       "      <th>p2_photo_count</th>\n",
       "      <th>p1_photo_list</th>\n",
       "      <th>p2_photo_list</th>\n",
       "      <th>combo</th>\n",
       "    </tr>\n",
       "  </thead>\n",
       "  <tbody>\n",
       "    <tr>\n",
       "      <th>0</th>\n",
       "      <td>/Users/harish3110/Desktop/capstone_project/tra...</td>\n",
       "      <td>/Users/harish3110/Desktop/capstone_project/tra...</td>\n",
       "      <td>1</td>\n",
       "      <td>0</td>\n",
       "      <td>0</td>\n",
       "      <td></td>\n",
       "      <td></td>\n",
       "      <td></td>\n",
       "    </tr>\n",
       "    <tr>\n",
       "      <th>1</th>\n",
       "      <td>/Users/harish3110/Desktop/capstone_project/tra...</td>\n",
       "      <td>/Users/harish3110/Desktop/capstone_project/tra...</td>\n",
       "      <td>1</td>\n",
       "      <td>0</td>\n",
       "      <td>0</td>\n",
       "      <td></td>\n",
       "      <td></td>\n",
       "      <td></td>\n",
       "    </tr>\n",
       "    <tr>\n",
       "      <th>2</th>\n",
       "      <td>/Users/harish3110/Desktop/capstone_project/tra...</td>\n",
       "      <td>/Users/harish3110/Desktop/capstone_project/tra...</td>\n",
       "      <td>1</td>\n",
       "      <td>0</td>\n",
       "      <td>0</td>\n",
       "      <td></td>\n",
       "      <td></td>\n",
       "      <td></td>\n",
       "    </tr>\n",
       "    <tr>\n",
       "      <th>3</th>\n",
       "      <td>/Users/harish3110/Desktop/capstone_project/tra...</td>\n",
       "      <td>/Users/harish3110/Desktop/capstone_project/tra...</td>\n",
       "      <td>1</td>\n",
       "      <td>0</td>\n",
       "      <td>0</td>\n",
       "      <td></td>\n",
       "      <td></td>\n",
       "      <td></td>\n",
       "    </tr>\n",
       "    <tr>\n",
       "      <th>4</th>\n",
       "      <td>/Users/harish3110/Desktop/capstone_project/tra...</td>\n",
       "      <td>/Users/harish3110/Desktop/capstone_project/tra...</td>\n",
       "      <td>1</td>\n",
       "      <td>0</td>\n",
       "      <td>0</td>\n",
       "      <td></td>\n",
       "      <td></td>\n",
       "      <td></td>\n",
       "    </tr>\n",
       "  </tbody>\n",
       "</table>\n",
       "</div>"
      ],
      "text/plain": [
       "                                                  p1  \\\n",
       "0  /Users/harish3110/Desktop/capstone_project/tra...   \n",
       "1  /Users/harish3110/Desktop/capstone_project/tra...   \n",
       "2  /Users/harish3110/Desktop/capstone_project/tra...   \n",
       "3  /Users/harish3110/Desktop/capstone_project/tra...   \n",
       "4  /Users/harish3110/Desktop/capstone_project/tra...   \n",
       "\n",
       "                                                  p2  is_related  \\\n",
       "0  /Users/harish3110/Desktop/capstone_project/tra...           1   \n",
       "1  /Users/harish3110/Desktop/capstone_project/tra...           1   \n",
       "2  /Users/harish3110/Desktop/capstone_project/tra...           1   \n",
       "3  /Users/harish3110/Desktop/capstone_project/tra...           1   \n",
       "4  /Users/harish3110/Desktop/capstone_project/tra...           1   \n",
       "\n",
       "   p1_photo_count  p2_photo_count p1_photo_list p2_photo_list combo  \n",
       "0               0               0                                    \n",
       "1               0               0                                    \n",
       "2               0               0                                    \n",
       "3               0               0                                    \n",
       "4               0               0                                    "
      ]
     },
     "execution_count": 691,
     "metadata": {},
     "output_type": "execute_result"
    }
   ],
   "source": [
    "train_df.head()"
   ]
  },
  {
   "cell_type": "code",
   "execution_count": 692,
   "metadata": {},
   "outputs": [],
   "source": [
    "# from tqdm import tqdm\n",
    "\n",
    "# # GET A LIST OF ALL INDIVIDUALS IN THE TRAINING DATA\n",
    "# train_individuals = list(set(list(train_df['p1']) + list(train_df['p2'])))\n",
    "# print(len(train_individuals), ' individuals in training dataset')\n",
    "# all_individuals = train_individuals\n",
    "# print(len(all_individuals), ' total individuals in the new training data')\n",
    "\n",
    "# # GENERATE ALL POSSIBLE COMBINATIONS OF INDIVIDUALS\n",
    "# combinations = list(itertools.combinations(train_individuals, 2))\n",
    "\n",
    "# print(len(combinations), ' possible 2-way combinations of individuals')\n",
    "\n",
    "# # CLEAR OUT ANY RELATED COMBINATIONS\n",
    "# for i in tqdm(range(0, train_df.shape[0])):\n",
    "#     combo = ( train_df.loc[i, 'p1'], train_df.loc[i, 'p2'] )\n",
    "#     if combo in combinations:\n",
    "#         combinations.remove(combo)\n",
    "# print(len(combinations), ' possible 2-way combinations of individuals after removing duplicates/related people')"
   ]
  },
  {
   "cell_type": "code",
   "execution_count": 693,
   "metadata": {},
   "outputs": [
    {
     "data": {
      "text/plain": [
       "pandas.core.frame.DataFrame"
      ]
     },
     "execution_count": 693,
     "metadata": {},
     "output_type": "execute_result"
    }
   ],
   "source": [
    "type(combinations)"
   ]
  },
  {
   "cell_type": "code",
   "execution_count": 694,
   "metadata": {},
   "outputs": [
    {
     "data": {
      "text/html": [
       "<div>\n",
       "<style scoped>\n",
       "    .dataframe tbody tr th:only-of-type {\n",
       "        vertical-align: middle;\n",
       "    }\n",
       "\n",
       "    .dataframe tbody tr th {\n",
       "        vertical-align: top;\n",
       "    }\n",
       "\n",
       "    .dataframe thead th {\n",
       "        text-align: right;\n",
       "    }\n",
       "</style>\n",
       "<table border=\"1\" class=\"dataframe\">\n",
       "  <thead>\n",
       "    <tr style=\"text-align: right;\">\n",
       "      <th></th>\n",
       "      <th>p1</th>\n",
       "      <th>p2</th>\n",
       "    </tr>\n",
       "  </thead>\n",
       "  <tbody>\n",
       "    <tr>\n",
       "      <th>0</th>\n",
       "      <td>/Users/harish3110/Desktop/capstone_project/tra...</td>\n",
       "      <td>/Users/harish3110/Desktop/capstone_project/tra...</td>\n",
       "    </tr>\n",
       "    <tr>\n",
       "      <th>1</th>\n",
       "      <td>/Users/harish3110/Desktop/capstone_project/tra...</td>\n",
       "      <td>/Users/harish3110/Desktop/capstone_project/tra...</td>\n",
       "    </tr>\n",
       "    <tr>\n",
       "      <th>2</th>\n",
       "      <td>/Users/harish3110/Desktop/capstone_project/tra...</td>\n",
       "      <td>/Users/harish3110/Desktop/capstone_project/tra...</td>\n",
       "    </tr>\n",
       "    <tr>\n",
       "      <th>3</th>\n",
       "      <td>/Users/harish3110/Desktop/capstone_project/tra...</td>\n",
       "      <td>/Users/harish3110/Desktop/capstone_project/tra...</td>\n",
       "    </tr>\n",
       "    <tr>\n",
       "      <th>4</th>\n",
       "      <td>/Users/harish3110/Desktop/capstone_project/tra...</td>\n",
       "      <td>/Users/harish3110/Desktop/capstone_project/tra...</td>\n",
       "    </tr>\n",
       "    <tr>\n",
       "      <th>5</th>\n",
       "      <td>/Users/harish3110/Desktop/capstone_project/tra...</td>\n",
       "      <td>/Users/harish3110/Desktop/capstone_project/tra...</td>\n",
       "    </tr>\n",
       "    <tr>\n",
       "      <th>6</th>\n",
       "      <td>/Users/harish3110/Desktop/capstone_project/tra...</td>\n",
       "      <td>/Users/harish3110/Desktop/capstone_project/tra...</td>\n",
       "    </tr>\n",
       "    <tr>\n",
       "      <th>7</th>\n",
       "      <td>/Users/harish3110/Desktop/capstone_project/tra...</td>\n",
       "      <td>/Users/harish3110/Desktop/capstone_project/tra...</td>\n",
       "    </tr>\n",
       "    <tr>\n",
       "      <th>8</th>\n",
       "      <td>/Users/harish3110/Desktop/capstone_project/tra...</td>\n",
       "      <td>/Users/harish3110/Desktop/capstone_project/tra...</td>\n",
       "    </tr>\n",
       "    <tr>\n",
       "      <th>9</th>\n",
       "      <td>/Users/harish3110/Desktop/capstone_project/tra...</td>\n",
       "      <td>/Users/harish3110/Desktop/capstone_project/tra...</td>\n",
       "    </tr>\n",
       "  </tbody>\n",
       "</table>\n",
       "</div>"
      ],
      "text/plain": [
       "                                                  p1  \\\n",
       "0  /Users/harish3110/Desktop/capstone_project/tra...   \n",
       "1  /Users/harish3110/Desktop/capstone_project/tra...   \n",
       "2  /Users/harish3110/Desktop/capstone_project/tra...   \n",
       "3  /Users/harish3110/Desktop/capstone_project/tra...   \n",
       "4  /Users/harish3110/Desktop/capstone_project/tra...   \n",
       "5  /Users/harish3110/Desktop/capstone_project/tra...   \n",
       "6  /Users/harish3110/Desktop/capstone_project/tra...   \n",
       "7  /Users/harish3110/Desktop/capstone_project/tra...   \n",
       "8  /Users/harish3110/Desktop/capstone_project/tra...   \n",
       "9  /Users/harish3110/Desktop/capstone_project/tra...   \n",
       "\n",
       "                                                  p2  \n",
       "0  /Users/harish3110/Desktop/capstone_project/tra...  \n",
       "1  /Users/harish3110/Desktop/capstone_project/tra...  \n",
       "2  /Users/harish3110/Desktop/capstone_project/tra...  \n",
       "3  /Users/harish3110/Desktop/capstone_project/tra...  \n",
       "4  /Users/harish3110/Desktop/capstone_project/tra...  \n",
       "5  /Users/harish3110/Desktop/capstone_project/tra...  \n",
       "6  /Users/harish3110/Desktop/capstone_project/tra...  \n",
       "7  /Users/harish3110/Desktop/capstone_project/tra...  \n",
       "8  /Users/harish3110/Desktop/capstone_project/tra...  \n",
       "9  /Users/harish3110/Desktop/capstone_project/tra...  "
      ]
     },
     "execution_count": 694,
     "metadata": {},
     "output_type": "execute_result"
    }
   ],
   "source": [
    "combinations[:10]"
   ]
  },
  {
   "cell_type": "code",
   "execution_count": 695,
   "metadata": {},
   "outputs": [],
   "source": [
    "import pickle\n",
    "with open(\"combinations.txt\", \"wb\") as fp:   #Pickling\n",
    "    pickle.dump(combinations, fp)"
   ]
  },
  {
   "cell_type": "code",
   "execution_count": 696,
   "metadata": {},
   "outputs": [],
   "source": [
    "with open(\"combinations.txt\", \"rb\") as fp:   # Unpickling\n",
    "    combinations = pickle.load(fp)"
   ]
  },
  {
   "cell_type": "code",
   "execution_count": 697,
   "metadata": {},
   "outputs": [
    {
     "data": {
      "text/html": [
       "<div>\n",
       "<style scoped>\n",
       "    .dataframe tbody tr th:only-of-type {\n",
       "        vertical-align: middle;\n",
       "    }\n",
       "\n",
       "    .dataframe tbody tr th {\n",
       "        vertical-align: top;\n",
       "    }\n",
       "\n",
       "    .dataframe thead th {\n",
       "        text-align: right;\n",
       "    }\n",
       "</style>\n",
       "<table border=\"1\" class=\"dataframe\">\n",
       "  <thead>\n",
       "    <tr style=\"text-align: right;\">\n",
       "      <th></th>\n",
       "      <th>p1</th>\n",
       "      <th>p2</th>\n",
       "    </tr>\n",
       "  </thead>\n",
       "  <tbody>\n",
       "    <tr>\n",
       "      <th>0</th>\n",
       "      <td>/Users/harish3110/Desktop/capstone_project/tra...</td>\n",
       "      <td>/Users/harish3110/Desktop/capstone_project/tra...</td>\n",
       "    </tr>\n",
       "    <tr>\n",
       "      <th>1</th>\n",
       "      <td>/Users/harish3110/Desktop/capstone_project/tra...</td>\n",
       "      <td>/Users/harish3110/Desktop/capstone_project/tra...</td>\n",
       "    </tr>\n",
       "    <tr>\n",
       "      <th>2</th>\n",
       "      <td>/Users/harish3110/Desktop/capstone_project/tra...</td>\n",
       "      <td>/Users/harish3110/Desktop/capstone_project/tra...</td>\n",
       "    </tr>\n",
       "    <tr>\n",
       "      <th>3</th>\n",
       "      <td>/Users/harish3110/Desktop/capstone_project/tra...</td>\n",
       "      <td>/Users/harish3110/Desktop/capstone_project/tra...</td>\n",
       "    </tr>\n",
       "    <tr>\n",
       "      <th>4</th>\n",
       "      <td>/Users/harish3110/Desktop/capstone_project/tra...</td>\n",
       "      <td>/Users/harish3110/Desktop/capstone_project/tra...</td>\n",
       "    </tr>\n",
       "    <tr>\n",
       "      <th>5</th>\n",
       "      <td>/Users/harish3110/Desktop/capstone_project/tra...</td>\n",
       "      <td>/Users/harish3110/Desktop/capstone_project/tra...</td>\n",
       "    </tr>\n",
       "    <tr>\n",
       "      <th>6</th>\n",
       "      <td>/Users/harish3110/Desktop/capstone_project/tra...</td>\n",
       "      <td>/Users/harish3110/Desktop/capstone_project/tra...</td>\n",
       "    </tr>\n",
       "    <tr>\n",
       "      <th>7</th>\n",
       "      <td>/Users/harish3110/Desktop/capstone_project/tra...</td>\n",
       "      <td>/Users/harish3110/Desktop/capstone_project/tra...</td>\n",
       "    </tr>\n",
       "    <tr>\n",
       "      <th>8</th>\n",
       "      <td>/Users/harish3110/Desktop/capstone_project/tra...</td>\n",
       "      <td>/Users/harish3110/Desktop/capstone_project/tra...</td>\n",
       "    </tr>\n",
       "    <tr>\n",
       "      <th>9</th>\n",
       "      <td>/Users/harish3110/Desktop/capstone_project/tra...</td>\n",
       "      <td>/Users/harish3110/Desktop/capstone_project/tra...</td>\n",
       "    </tr>\n",
       "  </tbody>\n",
       "</table>\n",
       "</div>"
      ],
      "text/plain": [
       "                                                  p1  \\\n",
       "0  /Users/harish3110/Desktop/capstone_project/tra...   \n",
       "1  /Users/harish3110/Desktop/capstone_project/tra...   \n",
       "2  /Users/harish3110/Desktop/capstone_project/tra...   \n",
       "3  /Users/harish3110/Desktop/capstone_project/tra...   \n",
       "4  /Users/harish3110/Desktop/capstone_project/tra...   \n",
       "5  /Users/harish3110/Desktop/capstone_project/tra...   \n",
       "6  /Users/harish3110/Desktop/capstone_project/tra...   \n",
       "7  /Users/harish3110/Desktop/capstone_project/tra...   \n",
       "8  /Users/harish3110/Desktop/capstone_project/tra...   \n",
       "9  /Users/harish3110/Desktop/capstone_project/tra...   \n",
       "\n",
       "                                                  p2  \n",
       "0  /Users/harish3110/Desktop/capstone_project/tra...  \n",
       "1  /Users/harish3110/Desktop/capstone_project/tra...  \n",
       "2  /Users/harish3110/Desktop/capstone_project/tra...  \n",
       "3  /Users/harish3110/Desktop/capstone_project/tra...  \n",
       "4  /Users/harish3110/Desktop/capstone_project/tra...  \n",
       "5  /Users/harish3110/Desktop/capstone_project/tra...  \n",
       "6  /Users/harish3110/Desktop/capstone_project/tra...  \n",
       "7  /Users/harish3110/Desktop/capstone_project/tra...  \n",
       "8  /Users/harish3110/Desktop/capstone_project/tra...  \n",
       "9  /Users/harish3110/Desktop/capstone_project/tra...  "
      ]
     },
     "execution_count": 697,
     "metadata": {},
     "output_type": "execute_result"
    }
   ],
   "source": [
    "combinations[:10]"
   ]
  },
  {
   "cell_type": "code",
   "execution_count": 698,
   "metadata": {},
   "outputs": [],
   "source": [
    "def get_profile(individual):\n",
    "    # ORIGINAL DATASET\n",
    "    print (len(train_df[train_df['p1'] == individual]['p1_photo_count'].head(1).values))\n",
    "    if len(train_df[train_df['p1'] == individual]['p1_photo_count'].head(1).values) == 0:\n",
    "        return {\n",
    "            'photo_list': train_df[train_df['p2'] == individual]['p2_photo_list'].head(1).values[0],\n",
    "            'photo_count': train_df[train_df['p2'] == individual]['p2_photo_count'].head(1).values[0]\n",
    "        }\n",
    "    else:\n",
    "        return {                                                        # it's not stupid if it works\n",
    "            'photo_list': train_df[train_df['p1'] == individual]['p1_photo_list'].head(1).values[0],\n",
    "            'photo_count': train_df[train_df['p1'] == individual]['p1_photo_count'].head(1).values[0]\n",
    "        }"
   ]
  },
  {
   "cell_type": "code",
   "execution_count": 699,
   "metadata": {},
   "outputs": [
    {
     "name": "stdout",
     "output_type": "stream",
     "text": [
      "6402  new rows to be created for training dataset\n"
     ]
    },
    {
     "ename": "KeyError",
     "evalue": "3757",
     "output_type": "error",
     "traceback": [
      "\u001b[0;31m---------------------------------------------------------------------------\u001b[0m",
      "\u001b[0;31mKeyError\u001b[0m                                  Traceback (most recent call last)",
      "\u001b[0;32m/Library/Frameworks/Python.framework/anaconda3/lib/python3.7/site-packages/pandas/core/indexes/base.py\u001b[0m in \u001b[0;36mget_loc\u001b[0;34m(self, key, method, tolerance)\u001b[0m\n\u001b[1;32m   3077\u001b[0m             \u001b[0;32mtry\u001b[0m\u001b[0;34m:\u001b[0m\u001b[0;34m\u001b[0m\u001b[0;34m\u001b[0m\u001b[0m\n\u001b[0;32m-> 3078\u001b[0;31m                 \u001b[0;32mreturn\u001b[0m \u001b[0mself\u001b[0m\u001b[0;34m.\u001b[0m\u001b[0m_engine\u001b[0m\u001b[0;34m.\u001b[0m\u001b[0mget_loc\u001b[0m\u001b[0;34m(\u001b[0m\u001b[0mkey\u001b[0m\u001b[0;34m)\u001b[0m\u001b[0;34m\u001b[0m\u001b[0;34m\u001b[0m\u001b[0m\n\u001b[0m\u001b[1;32m   3079\u001b[0m             \u001b[0;32mexcept\u001b[0m \u001b[0mKeyError\u001b[0m\u001b[0;34m:\u001b[0m\u001b[0;34m\u001b[0m\u001b[0;34m\u001b[0m\u001b[0m\n",
      "\u001b[0;32mpandas/_libs/index.pyx\u001b[0m in \u001b[0;36mpandas._libs.index.IndexEngine.get_loc\u001b[0;34m()\u001b[0m\n",
      "\u001b[0;32mpandas/_libs/index.pyx\u001b[0m in \u001b[0;36mpandas._libs.index.IndexEngine.get_loc\u001b[0;34m()\u001b[0m\n",
      "\u001b[0;32mpandas/_libs/hashtable_class_helper.pxi\u001b[0m in \u001b[0;36mpandas._libs.hashtable.PyObjectHashTable.get_item\u001b[0;34m()\u001b[0m\n",
      "\u001b[0;32mpandas/_libs/hashtable_class_helper.pxi\u001b[0m in \u001b[0;36mpandas._libs.hashtable.PyObjectHashTable.get_item\u001b[0;34m()\u001b[0m\n",
      "\u001b[0;31mKeyError\u001b[0m: 3757",
      "\nDuring handling of the above exception, another exception occurred:\n",
      "\u001b[0;31mKeyError\u001b[0m                                  Traceback (most recent call last)",
      "\u001b[0;32m<ipython-input-699-07134596c98e>\u001b[0m in \u001b[0;36m<module>\u001b[0;34m()\u001b[0m\n\u001b[1;32m     13\u001b[0m \u001b[0;32mfor\u001b[0m \u001b[0mi\u001b[0m \u001b[0;32min\u001b[0m \u001b[0mrange\u001b[0m\u001b[0;34m(\u001b[0m\u001b[0;36m0\u001b[0m\u001b[0;34m,\u001b[0m \u001b[0mgoal_n\u001b[0m \u001b[0;34m-\u001b[0m \u001b[0mtrain_df\u001b[0m\u001b[0;34m.\u001b[0m\u001b[0mshape\u001b[0m\u001b[0;34m[\u001b[0m\u001b[0;36m0\u001b[0m\u001b[0;34m]\u001b[0m\u001b[0;34m)\u001b[0m\u001b[0;34m:\u001b[0m\u001b[0;34m\u001b[0m\u001b[0;34m\u001b[0m\u001b[0m\n\u001b[1;32m     14\u001b[0m \u001b[0;34m\u001b[0m\u001b[0m\n\u001b[0;32m---> 15\u001b[0;31m     \u001b[0mcombo\u001b[0m \u001b[0;34m=\u001b[0m \u001b[0mcombinations\u001b[0m\u001b[0;34m[\u001b[0m\u001b[0mrandom_list\u001b[0m\u001b[0;34m[\u001b[0m\u001b[0mi\u001b[0m\u001b[0;34m]\u001b[0m\u001b[0;34m]\u001b[0m\u001b[0;34m[\u001b[0m\u001b[0;36m0\u001b[0m\u001b[0;34m]\u001b[0m \u001b[0;34m+\u001b[0m \u001b[0;34m'-'\u001b[0m \u001b[0;34m+\u001b[0m \u001b[0mcombinations\u001b[0m\u001b[0;34m[\u001b[0m\u001b[0mrandom_list\u001b[0m\u001b[0;34m[\u001b[0m\u001b[0mi\u001b[0m\u001b[0;34m]\u001b[0m\u001b[0;34m]\u001b[0m\u001b[0;34m[\u001b[0m\u001b[0;36m1\u001b[0m\u001b[0;34m]\u001b[0m\u001b[0;34m\u001b[0m\u001b[0;34m\u001b[0m\u001b[0m\n\u001b[0m\u001b[1;32m     16\u001b[0m \u001b[0;34m\u001b[0m\u001b[0m\n\u001b[1;32m     17\u001b[0m     \u001b[0mp1\u001b[0m \u001b[0;34m=\u001b[0m \u001b[0mget_profile\u001b[0m\u001b[0;34m(\u001b[0m\u001b[0mcombo\u001b[0m\u001b[0;34m.\u001b[0m\u001b[0msplit\u001b[0m\u001b[0;34m(\u001b[0m\u001b[0;34m'-'\u001b[0m\u001b[0;34m)\u001b[0m\u001b[0;34m[\u001b[0m\u001b[0;36m0\u001b[0m\u001b[0;34m]\u001b[0m\u001b[0;34m)\u001b[0m\u001b[0;34m\u001b[0m\u001b[0;34m\u001b[0m\u001b[0m\n",
      "\u001b[0;32m/Library/Frameworks/Python.framework/anaconda3/lib/python3.7/site-packages/pandas/core/frame.py\u001b[0m in \u001b[0;36m__getitem__\u001b[0;34m(self, key)\u001b[0m\n\u001b[1;32m   2686\u001b[0m             \u001b[0;32mreturn\u001b[0m \u001b[0mself\u001b[0m\u001b[0;34m.\u001b[0m\u001b[0m_getitem_multilevel\u001b[0m\u001b[0;34m(\u001b[0m\u001b[0mkey\u001b[0m\u001b[0;34m)\u001b[0m\u001b[0;34m\u001b[0m\u001b[0;34m\u001b[0m\u001b[0m\n\u001b[1;32m   2687\u001b[0m         \u001b[0;32melse\u001b[0m\u001b[0;34m:\u001b[0m\u001b[0;34m\u001b[0m\u001b[0;34m\u001b[0m\u001b[0m\n\u001b[0;32m-> 2688\u001b[0;31m             \u001b[0;32mreturn\u001b[0m \u001b[0mself\u001b[0m\u001b[0;34m.\u001b[0m\u001b[0m_getitem_column\u001b[0m\u001b[0;34m(\u001b[0m\u001b[0mkey\u001b[0m\u001b[0;34m)\u001b[0m\u001b[0;34m\u001b[0m\u001b[0;34m\u001b[0m\u001b[0m\n\u001b[0m\u001b[1;32m   2689\u001b[0m \u001b[0;34m\u001b[0m\u001b[0m\n\u001b[1;32m   2690\u001b[0m     \u001b[0;32mdef\u001b[0m \u001b[0m_getitem_column\u001b[0m\u001b[0;34m(\u001b[0m\u001b[0mself\u001b[0m\u001b[0;34m,\u001b[0m \u001b[0mkey\u001b[0m\u001b[0;34m)\u001b[0m\u001b[0;34m:\u001b[0m\u001b[0;34m\u001b[0m\u001b[0;34m\u001b[0m\u001b[0m\n",
      "\u001b[0;32m/Library/Frameworks/Python.framework/anaconda3/lib/python3.7/site-packages/pandas/core/frame.py\u001b[0m in \u001b[0;36m_getitem_column\u001b[0;34m(self, key)\u001b[0m\n\u001b[1;32m   2693\u001b[0m         \u001b[0;31m# get column\u001b[0m\u001b[0;34m\u001b[0m\u001b[0;34m\u001b[0m\u001b[0;34m\u001b[0m\u001b[0m\n\u001b[1;32m   2694\u001b[0m         \u001b[0;32mif\u001b[0m \u001b[0mself\u001b[0m\u001b[0;34m.\u001b[0m\u001b[0mcolumns\u001b[0m\u001b[0;34m.\u001b[0m\u001b[0mis_unique\u001b[0m\u001b[0;34m:\u001b[0m\u001b[0;34m\u001b[0m\u001b[0;34m\u001b[0m\u001b[0m\n\u001b[0;32m-> 2695\u001b[0;31m             \u001b[0;32mreturn\u001b[0m \u001b[0mself\u001b[0m\u001b[0;34m.\u001b[0m\u001b[0m_get_item_cache\u001b[0m\u001b[0;34m(\u001b[0m\u001b[0mkey\u001b[0m\u001b[0;34m)\u001b[0m\u001b[0;34m\u001b[0m\u001b[0;34m\u001b[0m\u001b[0m\n\u001b[0m\u001b[1;32m   2696\u001b[0m \u001b[0;34m\u001b[0m\u001b[0m\n\u001b[1;32m   2697\u001b[0m         \u001b[0;31m# duplicate columns & possible reduce dimensionality\u001b[0m\u001b[0;34m\u001b[0m\u001b[0;34m\u001b[0m\u001b[0;34m\u001b[0m\u001b[0m\n",
      "\u001b[0;32m/Library/Frameworks/Python.framework/anaconda3/lib/python3.7/site-packages/pandas/core/generic.py\u001b[0m in \u001b[0;36m_get_item_cache\u001b[0;34m(self, item)\u001b[0m\n\u001b[1;32m   2487\u001b[0m         \u001b[0mres\u001b[0m \u001b[0;34m=\u001b[0m \u001b[0mcache\u001b[0m\u001b[0;34m.\u001b[0m\u001b[0mget\u001b[0m\u001b[0;34m(\u001b[0m\u001b[0mitem\u001b[0m\u001b[0;34m)\u001b[0m\u001b[0;34m\u001b[0m\u001b[0;34m\u001b[0m\u001b[0m\n\u001b[1;32m   2488\u001b[0m         \u001b[0;32mif\u001b[0m \u001b[0mres\u001b[0m \u001b[0;32mis\u001b[0m \u001b[0;32mNone\u001b[0m\u001b[0;34m:\u001b[0m\u001b[0;34m\u001b[0m\u001b[0;34m\u001b[0m\u001b[0m\n\u001b[0;32m-> 2489\u001b[0;31m             \u001b[0mvalues\u001b[0m \u001b[0;34m=\u001b[0m \u001b[0mself\u001b[0m\u001b[0;34m.\u001b[0m\u001b[0m_data\u001b[0m\u001b[0;34m.\u001b[0m\u001b[0mget\u001b[0m\u001b[0;34m(\u001b[0m\u001b[0mitem\u001b[0m\u001b[0;34m)\u001b[0m\u001b[0;34m\u001b[0m\u001b[0;34m\u001b[0m\u001b[0m\n\u001b[0m\u001b[1;32m   2490\u001b[0m             \u001b[0mres\u001b[0m \u001b[0;34m=\u001b[0m \u001b[0mself\u001b[0m\u001b[0;34m.\u001b[0m\u001b[0m_box_item_values\u001b[0m\u001b[0;34m(\u001b[0m\u001b[0mitem\u001b[0m\u001b[0;34m,\u001b[0m \u001b[0mvalues\u001b[0m\u001b[0;34m)\u001b[0m\u001b[0;34m\u001b[0m\u001b[0;34m\u001b[0m\u001b[0m\n\u001b[1;32m   2491\u001b[0m             \u001b[0mcache\u001b[0m\u001b[0;34m[\u001b[0m\u001b[0mitem\u001b[0m\u001b[0;34m]\u001b[0m \u001b[0;34m=\u001b[0m \u001b[0mres\u001b[0m\u001b[0;34m\u001b[0m\u001b[0;34m\u001b[0m\u001b[0m\n",
      "\u001b[0;32m/Library/Frameworks/Python.framework/anaconda3/lib/python3.7/site-packages/pandas/core/internals.py\u001b[0m in \u001b[0;36mget\u001b[0;34m(self, item, fastpath)\u001b[0m\n\u001b[1;32m   4113\u001b[0m \u001b[0;34m\u001b[0m\u001b[0m\n\u001b[1;32m   4114\u001b[0m             \u001b[0;32mif\u001b[0m \u001b[0;32mnot\u001b[0m \u001b[0misna\u001b[0m\u001b[0;34m(\u001b[0m\u001b[0mitem\u001b[0m\u001b[0;34m)\u001b[0m\u001b[0;34m:\u001b[0m\u001b[0;34m\u001b[0m\u001b[0;34m\u001b[0m\u001b[0m\n\u001b[0;32m-> 4115\u001b[0;31m                 \u001b[0mloc\u001b[0m \u001b[0;34m=\u001b[0m \u001b[0mself\u001b[0m\u001b[0;34m.\u001b[0m\u001b[0mitems\u001b[0m\u001b[0;34m.\u001b[0m\u001b[0mget_loc\u001b[0m\u001b[0;34m(\u001b[0m\u001b[0mitem\u001b[0m\u001b[0;34m)\u001b[0m\u001b[0;34m\u001b[0m\u001b[0;34m\u001b[0m\u001b[0m\n\u001b[0m\u001b[1;32m   4116\u001b[0m             \u001b[0;32melse\u001b[0m\u001b[0;34m:\u001b[0m\u001b[0;34m\u001b[0m\u001b[0;34m\u001b[0m\u001b[0m\n\u001b[1;32m   4117\u001b[0m                 \u001b[0mindexer\u001b[0m \u001b[0;34m=\u001b[0m \u001b[0mnp\u001b[0m\u001b[0;34m.\u001b[0m\u001b[0marange\u001b[0m\u001b[0;34m(\u001b[0m\u001b[0mlen\u001b[0m\u001b[0;34m(\u001b[0m\u001b[0mself\u001b[0m\u001b[0;34m.\u001b[0m\u001b[0mitems\u001b[0m\u001b[0;34m)\u001b[0m\u001b[0;34m)\u001b[0m\u001b[0;34m[\u001b[0m\u001b[0misna\u001b[0m\u001b[0;34m(\u001b[0m\u001b[0mself\u001b[0m\u001b[0;34m.\u001b[0m\u001b[0mitems\u001b[0m\u001b[0;34m)\u001b[0m\u001b[0;34m]\u001b[0m\u001b[0;34m\u001b[0m\u001b[0;34m\u001b[0m\u001b[0m\n",
      "\u001b[0;32m/Library/Frameworks/Python.framework/anaconda3/lib/python3.7/site-packages/pandas/core/indexes/base.py\u001b[0m in \u001b[0;36mget_loc\u001b[0;34m(self, key, method, tolerance)\u001b[0m\n\u001b[1;32m   3078\u001b[0m                 \u001b[0;32mreturn\u001b[0m \u001b[0mself\u001b[0m\u001b[0;34m.\u001b[0m\u001b[0m_engine\u001b[0m\u001b[0;34m.\u001b[0m\u001b[0mget_loc\u001b[0m\u001b[0;34m(\u001b[0m\u001b[0mkey\u001b[0m\u001b[0;34m)\u001b[0m\u001b[0;34m\u001b[0m\u001b[0;34m\u001b[0m\u001b[0m\n\u001b[1;32m   3079\u001b[0m             \u001b[0;32mexcept\u001b[0m \u001b[0mKeyError\u001b[0m\u001b[0;34m:\u001b[0m\u001b[0;34m\u001b[0m\u001b[0;34m\u001b[0m\u001b[0m\n\u001b[0;32m-> 3080\u001b[0;31m                 \u001b[0;32mreturn\u001b[0m \u001b[0mself\u001b[0m\u001b[0;34m.\u001b[0m\u001b[0m_engine\u001b[0m\u001b[0;34m.\u001b[0m\u001b[0mget_loc\u001b[0m\u001b[0;34m(\u001b[0m\u001b[0mself\u001b[0m\u001b[0;34m.\u001b[0m\u001b[0m_maybe_cast_indexer\u001b[0m\u001b[0;34m(\u001b[0m\u001b[0mkey\u001b[0m\u001b[0;34m)\u001b[0m\u001b[0;34m)\u001b[0m\u001b[0;34m\u001b[0m\u001b[0;34m\u001b[0m\u001b[0m\n\u001b[0m\u001b[1;32m   3081\u001b[0m \u001b[0;34m\u001b[0m\u001b[0m\n\u001b[1;32m   3082\u001b[0m         \u001b[0mindexer\u001b[0m \u001b[0;34m=\u001b[0m \u001b[0mself\u001b[0m\u001b[0;34m.\u001b[0m\u001b[0mget_indexer\u001b[0m\u001b[0;34m(\u001b[0m\u001b[0;34m[\u001b[0m\u001b[0mkey\u001b[0m\u001b[0;34m]\u001b[0m\u001b[0;34m,\u001b[0m \u001b[0mmethod\u001b[0m\u001b[0;34m=\u001b[0m\u001b[0mmethod\u001b[0m\u001b[0;34m,\u001b[0m \u001b[0mtolerance\u001b[0m\u001b[0;34m=\u001b[0m\u001b[0mtolerance\u001b[0m\u001b[0;34m)\u001b[0m\u001b[0;34m\u001b[0m\u001b[0;34m\u001b[0m\u001b[0m\n",
      "\u001b[0;32mpandas/_libs/index.pyx\u001b[0m in \u001b[0;36mpandas._libs.index.IndexEngine.get_loc\u001b[0;34m()\u001b[0m\n",
      "\u001b[0;32mpandas/_libs/index.pyx\u001b[0m in \u001b[0;36mpandas._libs.index.IndexEngine.get_loc\u001b[0;34m()\u001b[0m\n",
      "\u001b[0;32mpandas/_libs/hashtable_class_helper.pxi\u001b[0m in \u001b[0;36mpandas._libs.hashtable.PyObjectHashTable.get_item\u001b[0;34m()\u001b[0m\n",
      "\u001b[0;32mpandas/_libs/hashtable_class_helper.pxi\u001b[0m in \u001b[0;36mpandas._libs.hashtable.PyObjectHashTable.get_item\u001b[0;34m()\u001b[0m\n",
      "\u001b[0;31mKeyError\u001b[0m: 3757"
     ]
    }
   ],
   "source": [
    "goal_n = 10000  # 10k this gives us a 64/36-ish ratio for our target of 'is_related'\n",
    "\n",
    "print(goal_n - train_df.shape[0], ' new rows to be created for training dataset')\n",
    "\n",
    "# generating a list of random numbers for indexes to grab from the combinations list\n",
    "random_list = []\n",
    "for i in range(0, goal_n - train_df.shape[0]): # for each of the number of rows I need to add\n",
    "    x = random.randint(0, len(combinations))   # generate a random number between 0 and combinations length\n",
    "    random_list.append(x)\n",
    "\n",
    "rows_list = []\n",
    "\n",
    "for i in range(0, goal_n - train_df.shape[0]):\n",
    "\n",
    "    combo = combinations[random_list[i]][0] + '-' + combinations[random_list[i]][1]\n",
    "    \n",
    "    p1 = get_profile(combo.split('-')[0])\n",
    "    p2 = get_profile(combo.split('-')[1])\n",
    "\n",
    "    new_row = {\n",
    "        'p1': combinations[random_list[i]][0],\n",
    "        'p2': combinations[random_list[i]][1],\n",
    "        'is_related': 0, \n",
    "        'p1_photo_count': p1['photo_count'], \n",
    "        'p2_photo_count': p2['photo_count'], \n",
    "        'p1_photo_list': p1['photo_list'], \n",
    "        'p2_photo_list': p2['photo_list'],  \n",
    "        'combo': combo\n",
    "    }\n",
    "    \n",
    "    rows_list.append(new_row)\n",
    "\n",
    "new_rows = pd.DataFrame(rows_list)"
   ]
  },
  {
   "cell_type": "code",
   "execution_count": null,
   "metadata": {},
   "outputs": [],
   "source": [
    "if train_df.shape[0] <= goal_n:\n",
    "    train_df = pd.concat( [ train_df, new_rows ], ignore_index=True )\n"
   ]
  },
  {
   "cell_type": "code",
   "execution_count": null,
   "metadata": {},
   "outputs": [],
   "source": [
    "train_df.head()"
   ]
  },
  {
   "cell_type": "code",
   "execution_count": null,
   "metadata": {},
   "outputs": [],
   "source": [
    "train_df.is_related[train_df.is_related == 0].count()"
   ]
  },
  {
   "cell_type": "code",
   "execution_count": null,
   "metadata": {},
   "outputs": [],
   "source": [
    "train_df.is_related[train_df.is_related == 1].count()"
   ]
  },
  {
   "cell_type": "code",
   "execution_count": null,
   "metadata": {},
   "outputs": [],
   "source": [
    "train_df.head()"
   ]
  },
  {
   "cell_type": "code",
   "execution_count": null,
   "metadata": {},
   "outputs": [],
   "source": [
    "train_df.drop(['combo', 'p1_photo_count', 'p1_photo_list', 'p2_photo_count', 'p2_photo_list'], axis=1, inplace=True)\n",
    "\n",
    "train_df.head()"
   ]
  },
  {
   "cell_type": "code",
   "execution_count": null,
   "metadata": {},
   "outputs": [],
   "source": [
    "train_df = train_df.sample(frac=1).reset_index(drop=True)\n",
    "train_df.head()"
   ]
  },
  {
   "cell_type": "code",
   "execution_count": null,
   "metadata": {},
   "outputs": [],
   "source": [
    "train_df.to_csv('df_final.csv')"
   ]
  },
  {
   "cell_type": "markdown",
   "metadata": {},
   "source": [
    "---"
   ]
  },
  {
   "cell_type": "code",
   "execution_count": null,
   "metadata": {},
   "outputs": [],
   "source": []
  }
 ],
 "metadata": {
  "kernelspec": {
   "display_name": "Python 3",
   "language": "python",
   "name": "python3"
  },
  "language_info": {
   "codemirror_mode": {
    "name": "ipython",
    "version": 3
   },
   "file_extension": ".py",
   "mimetype": "text/x-python",
   "name": "python",
   "nbconvert_exporter": "python",
   "pygments_lexer": "ipython3",
   "version": "3.7.2"
  }
 },
 "nbformat": 4,
 "nbformat_minor": 2
}
